{
 "cells": [
  {
   "cell_type": "markdown",
   "id": "181aba60",
   "metadata": {},
   "source": [
    "# 人工智能程序设计 编程作业-1"
   ]
  },
  {
   "cell_type": "markdown",
   "id": "dc8bcaae",
   "metadata": {},
   "source": [
    "## 请按照下面的要求编写代码并运行。把完成后的ipynb文件改名为 AIP-01-XXXXX-#####.ipynb提交。其中，XXXXX替换为你的姓名，#####替换为你的学号。例：AIP-01-王文中-E12011109.ipynb"
   ]
  },
  {
   "cell_type": "code",
   "execution_count": null,
   "id": "53092f5d",
   "metadata": {},
   "outputs": [],
   "source": [
    "# 请在下面补充代码，输出你的姓名和学号\n",
    "\n",
    "name = '陈一鸣'\n",
    "ID = 'E42114031'\n",
    "print('my name is ',name)\n",
    "print('id =',ID)"
   ]
  },
  {
   "cell_type": "markdown",
   "id": "23937ace",
   "metadata": {},
   "source": [
    "## 1. 读入10个整数，计算其中所有偶数的总和，并输出 。要求只能使用一次循环。"
   ]
  },
  {
   "cell_type": "code",
   "execution_count": null,
   "id": "fff63df8",
   "metadata": {},
   "outputs": [],
   "source": [
    "#请在下方填写你的代码\n",
    "#提示：使用input和for 循环\n",
    "\n",
    "sum = 0\n",
    "for i in range(1,11):\n",
    "    j=int(input(\"Please input integer:\"))\n",
    "    if j%2==0:\n",
    "        sum+=j\n",
    "print('sum= ',sum)"
   ]
  },
  {
   "cell_type": "markdown",
   "id": "31e2e525",
   "metadata": {},
   "source": [
    "## 2. 不断读入整数，遇到第一个负数时终止读入，在读入过程中分别对其中的奇数和偶数计算累加和，结束读数之后，输出奇数和与偶数和。"
   ]
  },
  {
   "cell_type": "code",
   "execution_count": null,
   "id": "79733cf3",
   "metadata": {},
   "outputs": [],
   "source": [
    "#请在下方填写你的代码\n",
    "#提示：使用input、while循环以及break。\n",
    "\n",
    "i=0\n",
    "sum1=sum2=0\n",
    "while i>=0:\n",
    "    i=int(input(\"Please input integer:\"))\n",
    "    if i%2==0:\n",
    "        sum1+=i\n",
    "    else:\n",
    "        sum2+=i\n",
    "print('even sum=%d\\nodd sum=%d' % (sum1,sum2))"
   ]
  },
  {
   "cell_type": "markdown",
   "id": "9a5f4268",
   "metadata": {},
   "source": [
    "## 3. 计算函数一元函数$f(x)$在给定区间$[a,b]$上的定积分.\n",
    "计算方法如下：\n",
    "$\\int_{a}^{b}f(x)dx \\approx = \\delta \\times \\sum_{i=0}^{n}{f(x_{i})}$\n",
    "\n",
    "其中$x_{i},i=0,1,...,n-1$是把区间$[a,b]$划分为$n$个宽度为$\\delta$且不相交的小区间$S_{i}=[x_{i},x_{i+1}]$的端点。\n",
    "\n",
    "$\\delta>0$是一个非常小的实数,一般可以取$\\delta=1e-5$。\n",
    "\n",
    "另，注意$\\int_{a}^{b}{f(x)dx}=-\\int_{b}^{a}{f(x)dx}$。如果积分下界$a$大于积分上界$b$，那么积分结果为$-\\int_{b}^{a}{f(x)dx}$。\n",
    "\n",
    "本题中，一元函数由以下代码定义，你的代码中直接调用该函数。"
   ]
  },
  {
   "cell_type": "code",
   "execution_count": null,
   "id": "ccbc40cb",
   "metadata": {},
   "outputs": [],
   "source": [
    "# 一元函数f的定义：\n",
    "def f(x):\n",
    "    return 2*x*x - 3*x + 1\n",
    "\n",
    "#下面是函数调用示例：\n",
    "\n",
    "x = 1\n",
    "y = f(x)\n",
    "print('x =',x,',f(x) =',y)\n",
    "\n",
    "x = 2\n",
    "print('x =',x,',f(x) =',f(x))"
   ]
  },
  {
   "cell_type": "code",
   "execution_count": null,
   "id": "a65fc72d",
   "metadata": {},
   "outputs": [],
   "source": [
    "#请在下面编写代码计算f(x)在给定区间上的定积分.积分区间请从控制台读入。\n",
    "\n",
    "n=100000\n",
    "#读入积分区间：\n",
    "a = float(input('请输入积分区间下界:'))\n",
    "b = float(input('请输入积分区间上界:'))\n",
    "\n",
    "#判断a,b是否满足a<b\n",
    "#如果不满足，那么交换a,b，并记录符号因子\n",
    "if a>b:\n",
    "    #记录积分符号因子\n",
    "    sign = -1\n",
    "    #请填写代码交换a,b\n",
    "    a,b=b,a\n",
    "else:\n",
    "    sign = 1\n",
    "    \n",
    "#在下面计算f在[a,b]上的定积分,积分结果保存在变量sum中\n",
    "sum = 0\n",
    "c=(b-a)/n\n",
    "for i in range(0,n+1):\n",
    "    x=c*i+a\n",
    "    sum+=f(x)\n",
    "sum*=1e-5\n",
    "#根据sign修正积分结果：\n",
    "sum = sign * sum\n",
    "\n",
    "#输出积分结果：\n",
    "print('sum =',sum)"
   ]
  },
  {
   "cell_type": "markdown",
   "id": "5669a383",
   "metadata": {},
   "source": [
    "## 4. 使用蒙特卡洛法估计抛物线$y=2 x^{2}+1$在区间$[0,1]$上的定积分\n",
    "\n",
    "算法为：所求定积分等于由 x轴（$y = 0$），$x = 0$, $x = 1$这三条直线以及曲线$y=2x^{2}+1$构成的封闭区域A的面积。\n",
    "\n",
    "计算这个区域的最高点坐标为$x = 1,y = 3$。因此，用$y=0,y=3,x=0,x=1$这四条直线构造一个包含上述封闭区域的矩形B，并向该矩形内随机投放$n$个点，然后计算落在A内的随机点的数目$n1$，据此得出A与B的面积比约为$\\frac{n1}{n}$。据此可以估算出A的面积，即所求积分。"
   ]
  },
  {
   "cell_type": "code",
   "execution_count": null,
   "id": "4c23bd62",
   "metadata": {},
   "outputs": [],
   "source": [
    "#在下面填入你的代码\n",
    "from random import random\n",
    "n=100000\n",
    "n1=0\n",
    "for i in range(n):\n",
    "    x=random()\n",
    "    y=random()*3\n",
    "    if(y<2*x*x+1):\n",
    "        n1+=1\n",
    "s=(n1/n)*3\n",
    "print('SA=',s)"
   ]
  },
  {
   "cell_type": "markdown",
   "id": "3e5f913f",
   "metadata": {},
   "source": [
    "## 5. 从控制台读入一个实数，使用二分法计算该实数的平方根。\n",
    "\n",
    "注意：$x<0$的平方根为虚数，这种情况下用$|x|$的平方根构造一个complex来表示。\n",
    "\n",
    "比如，如果输入的实数为$x=-4$,那么先计算$|x|$的平方根$r=2$,然后构造复数complex(0,r)，得到x的平方根为(0+2j)。"
   ]
  },
  {
   "cell_type": "code",
   "execution_count": null,
   "id": "ab5048b9",
   "metadata": {},
   "outputs": [],
   "source": [
    "#下面是复数的示例：\n",
    "c1 = complex(1,0)\n",
    "c2 = complex(0,1)\n",
    "c3 = complex(1,1)\n",
    "\n",
    "print('c1 =',c1)\n",
    "\n",
    "print('c2 =',c2)\n",
    "\n",
    "print('c3 =',c3)"
   ]
  },
  {
   "cell_type": "code",
   "execution_count": null,
   "id": "fd31e7e8",
   "metadata": {},
   "outputs": [],
   "source": [
    "#请在下面填写你的代码\n",
    "\n",
    "from math import sqrt\n",
    "x=float(input(\"Please entre a number:\"))\n",
    "if x>0:\n",
    "    print('Square root=',sqrt(x))\n",
    "else:\n",
    "    print('Square root=',complex(0,sqrt(abs(x))))"
   ]
  }
 ],
 "metadata": {
  "kernelspec": {
   "display_name": "Python [conda env:root] *",
   "language": "python",
   "name": "conda-root-py"
  },
  "language_info": {
   "codemirror_mode": {
    "name": "ipython",
    "version": 3
   },
   "file_extension": ".py",
   "mimetype": "text/x-python",
   "name": "python",
   "nbconvert_exporter": "python",
   "pygments_lexer": "ipython3",
   "version": "3.8.8"
  }
 },
 "nbformat": 4,
 "nbformat_minor": 5
}
