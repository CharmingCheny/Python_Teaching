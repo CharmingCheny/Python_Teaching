{
 "cells": [
  {
   "cell_type": "markdown",
   "id": "0ad3f761",
   "metadata": {},
   "source": [
    "# 人工智能程序设计 编程作业-2"
   ]
  },
  {
   "cell_type": "markdown",
   "id": "1fdd9da6",
   "metadata": {},
   "source": [
    "## 请按照下面的要求编写代码并运行。把完成后的ipynb文件改名为 AIP-02-XXXXX-#####.ipynb提交。其中，XXXXX替换为你的姓名，#####替换为你的学号。例：AIP-02-王文中-E12011109.ipynb"
   ]
  },
  {
   "cell_type": "code",
   "execution_count": null,
   "id": "c7a21f4a",
   "metadata": {},
   "outputs": [],
   "source": [
    "# 请在下面补充代码，输出你的姓名和学号\n",
    "\n",
    "name = '陈一鸣'\n",
    "ID = 'E43114031'\n",
    "print('my name is ',name)\n",
    "print('id =',ID)"
   ]
  },
  {
   "cell_type": "markdown",
   "id": "b39980fd",
   "metadata": {},
   "source": [
    "以下编程问题请使用列表解决。"
   ]
  },
  {
   "cell_type": "markdown",
   "id": "1f41a5fa",
   "metadata": {},
   "source": [
    "## 1. 使用列表推导式构造一个包含区间[1,100]内所有平方数的列表。 "
   ]
  },
  {
   "cell_type": "code",
   "execution_count": null,
   "id": "36c9c12b",
   "metadata": {},
   "outputs": [],
   "source": [
    "#请在下面填写代码\n",
    "\n",
    "[i**2 for i in range(1,101)]"
   ]
  },
  {
   "cell_type": "markdown",
   "id": "1d60c3e0",
   "metadata": {},
   "source": [
    "## 2.给定两个列表A,B，使用列表推导式，构造一个新的列表C，C中的元素是A与B的交集中的元素。"
   ]
  },
  {
   "cell_type": "code",
   "execution_count": null,
   "id": "16bf5fd0",
   "metadata": {},
   "outputs": [],
   "source": [
    "#下面是两个列表：\n",
    "A = [1,5,-7,'H',3,'Katty',['Tom',34],72]\n",
    "B = [25,'Rose','Tom',32,27,'Katty',5,3,2]\n",
    "#在下面括号中补充代码\n",
    "C = [A[i] for i in range(8) for j in range(9) if A[i]==B[j]]\n",
    "print(C)#应输出[5, 3, 'Katty']"
   ]
  },
  {
   "cell_type": "markdown",
   "id": "a91b7ee7",
   "metadata": {},
   "source": [
    "## 3. 一个列表A中有部分元素是重复的，请编写代码，根据该列表，构造出一个新列表B，B由原列表的所有不同元素构成。\n",
    "\n",
    "例1：A = [1,2,3,2,2,4],B=[1,2,3,4]\n",
    "\n",
    "例2：A = [1,3,5,7,9], B = [1,3,5,7,9]\n",
    "\n",
    "例3：A = [], B = []"
   ]
  },
  {
   "cell_type": "code",
   "execution_count": null,
   "id": "0c93674b",
   "metadata": {},
   "outputs": [],
   "source": [
    "A = [1,2,3,3,2,2,4,4,5,6,7]\n",
    "#请在下面填写你的代码\n",
    "\n",
    "B=list(set(A))\n",
    "for i in B:\n",
    "    print(i)\n"
   ]
  },
  {
   "cell_type": "markdown",
   "id": "fe98cced",
   "metadata": {},
   "source": [
    "## 4. 编写代码，把一个列表中的重复元素删除掉，每个重复元素值保留一份。\n",
    "\n",
    "例如 [1,2,3,3,2,4,5],删除后变为:[1,2,3,4,5]"
   ]
  },
  {
   "cell_type": "code",
   "execution_count": null,
   "id": "2cccf245",
   "metadata": {},
   "outputs": [],
   "source": [
    "A = [1,1,2,3,4,5,3,6,7,4,5,9,8,4,5,1,5]\n",
    "print('Before de-duplication:',A)\n",
    "#请在下面补充你的代码\n",
    "\n",
    "A=list(set(A))\n",
    "\n",
    "print('After de-duplication:',A)"
   ]
  },
  {
   "cell_type": "markdown",
   "id": "b6747b58",
   "metadata": {},
   "source": [
    "## 5. 编写代码，根据两个列表构造出一个新列表，里面的元素是两个列表中元素的所有可能组合。\n",
    "\n",
    "例如：A = ['A','B','C'], B = [1,2,3]\n",
    "\n",
    "输出为：\n",
    "[['A', 1], ['A', 2], ['A', 3], ['B', 1], ['B', 2],['B', 3],['C', 1], ['C', 2], ['C', 3]]"
   ]
  },
  {
   "cell_type": "code",
   "execution_count": null,
   "id": "01ab8dd0",
   "metadata": {},
   "outputs": [],
   "source": [
    "#请在下面编写你的代码\n",
    "\n",
    "A = ['A','B','C']\n",
    "B = [1,2,3]\n",
    "s=[[x,y] for x in A for y in B]\n",
    "print(s)"
   ]
  },
  {
   "cell_type": "markdown",
   "id": "6e6694ed",
   "metadata": {},
   "source": [
    "## 6. 假设用列表表示一个$3\\times 3$矩阵，分别完成下列任务：\n",
    "\n",
    "- 用随机数生成一个$3\\times 3$的矩阵，用列表M表示。\n",
    "\n",
    "- 从M中提取出该矩阵的对角线元素，用列表D表示。请用列表推导式完成。\n",
    "\n",
    "- 计算该矩阵所有元素之和S，请用列表推导式完成。"
   ]
  },
  {
   "cell_type": "code",
   "execution_count": null,
   "id": "3be5ca5d",
   "metadata": {},
   "outputs": [],
   "source": [
    "#在下面补充代码，生成一个随机矩阵M\n",
    "from random import randint\n",
    "def ran():\n",
    "    x=randint(1,100)\n",
    "    return x\n",
    "M = [[ran(),ran(),ran()],[ran(),ran(),ran()],[ran(),ran(),ran()]]\n",
    "\n",
    "print('M=',M)\n",
    "#在下面补充代码，提取M的对角线元素D:\n",
    "\n",
    "D=[M[i][i] for i in range(len(M))] \n",
    "D1=[M[i][2-i] for i in range(len(M))]\n",
    "D.extend(D1)\n",
    "D=list(set(D))\n",
    "print('D=',D)\n",
    "\n",
    "#在下面补充代码，计算M所有元素之和:\n",
    "S =sum([M[i][j] for i in range(3) for j in range(3)])\n",
    "\n",
    "print('sum=',S)"
   ]
  },
  {
   "cell_type": "markdown",
   "id": "8e720137",
   "metadata": {},
   "source": [
    "## 7.假设学生会选干事，一共有num_voters个人参加选举，候选人数目为num_cands，每个人最多可以为max_votes个候选人投票，不得为同一个人投多张票。请你编写程序模拟投票与计票过程。\n",
    "\n",
    "投票过程用随机数发生器模拟，为每个选民随机选出不超过max_votes张票，用一个列表表示每位选民的投票结果；所有选民的投票结果用一个列表表示,弃权票对应空列表。\n",
    "\n",
    "获得全体选民的投票结果之后，请为每一位候选人累计得票数，并输出。\n",
    "\n",
    "假设选票上每一个候选人用一个数字表示（0...num_cands-1）。\n",
    "\n",
    "下面显示了num_voters=10,num_cands = 3, max_votes = 2的一个投票模拟结果：\n",
    "\n",
    "[[1, 0], [1], [], [0], [2], [1, 0], [1], [2, 1], [1], [1]]\n",
    "\n",
    "其中，一位选民投了弃权票，6位选民只投了一票，其他选民投了2票。1号候选人得票最高。"
   ]
  },
  {
   "cell_type": "code",
   "execution_count": null,
   "id": "0e05ad1e",
   "metadata": {},
   "outputs": [],
   "source": [
    "from random import randint\n",
    "\n",
    "#候选人名字\n",
    "all_cands = ['Billy','Tina','Eileen','Joey','Schmidhuber']\n",
    "\n",
    "num_voters = 20\n",
    "num_cands = len(all_cands)\n",
    "max_votes = 3\n",
    "\n",
    "votes = []#统计每位选民的选票\n",
    "\n",
    "#请在下面补充代码，模拟投票过程\n",
    "#投票结果存入列表votes中\n",
    "for i in range(num_voters):\n",
    "    n=randint(0,3)\n",
    "    if n==0:\n",
    "        v=[]\n",
    "    elif n==1:\n",
    "        v=[randint(0,4)]\n",
    "    elif n==2:\n",
    "        while 1:\n",
    "            v=[randint(0,4),randint(0,4)]\n",
    "            v1=list(set(v))\n",
    "            if len(v1)==2:\n",
    "                break\n",
    "    elif n==3:\n",
    "        while 1:\n",
    "            v=[randint(0,4),randint(0,4),randint(0,4)]\n",
    "            v1=list(set(v))\n",
    "            if len(v1)==3:\n",
    "                break\n",
    "    votes.append(v)\n",
    "print(votes)\n",
    "\n",
    "#请在下面补充代码，统计每位候选人的得票数\n",
    "counts = []#counts列表存放每一位候选人的得票数\n",
    "v0=v1=v2=v3=v4=0\n",
    "for i in range(num_voters):\n",
    "    for j in range(len(votes[i])):\n",
    "        if votes[i][j]==0:\n",
    "            v0+=1\n",
    "        elif votes[i][j]==1:\n",
    "            v1+=1\n",
    "        elif votes[i][j]==2:\n",
    "            v2+=1\n",
    "        elif votes[i][j]==3:\n",
    "            v3+=1\n",
    "        elif votes[i][j]==4:\n",
    "            v4+=1\n",
    "counts=[v0,v1,v2,v3,v4]\n",
    "\n",
    "\n",
    "#请在下面补充代码，显示每位候选人的姓名及其得票数\n",
    "#候选人名字在列表all_cands中。下面是一个可能的得票结果：\n",
    "#Billy : 5\n",
    "#Tina : 3\n",
    "#Eileen : 3\n",
    "#Joey : 3\n",
    "#Schmidhuber : 6\n",
    "for i in range(len(counts)):\n",
    "    print(all_cands[i] , ':' , counts[i])\n"
   ]
  },
  {
   "cell_type": "markdown",
   "id": "725cbc91",
   "metadata": {},
   "source": [
    "## 8. 生成一组随机数，存入一个列表，然后用softmax算法把这组随机数换算为一个概率分布，并计算这个分布的熵。\n",
    "\n",
    "- softmax算法如下：\n",
    "假设随机数序列为$x$,包含了$n$个值。\n",
    "\n",
    "首先，为了避免数值溢出，把$x$变为$y$:$y_{i} = x_{i} - max(x)$.即，从每一个$x_{i}$中减去$x$中的最大值。\n",
    "\n",
    "然后，计算每一个数的指数变换：$z_{i} = e^{x_{i}},i=0,...,n-1$\n",
    "\n",
    "最后，计算概率值:$p_{i} = \\frac{z_{i}}{\\sum_{j=0}^{n-1}{z_{j}}}$\n",
    "\n",
    "- 概率分布的熵$h(p)$计算方式如下：\n",
    "\n",
    "假设概率分布为$p=(p_{0},p_{1},...,p_{n-1}),p_{i}\\in[0,1]$,这个分布的熵为：\n",
    "$h(p) = -\\sum_{i=0}^{n-1}{p_{i}log_{2}{p_{i}}}$\n",
    "\n",
    "\n",
    "下面是一个示例：\n",
    "\n",
    "x = [2, 0, 3, -2, -2]\n",
    "\n",
    "p = [0.2570529950493558, 0.034788339891824165, 0.6987424853936367, 0.004708089832591576, 0.004708089832591576]\n",
    "\n",
    "h = 1.1065065883380962"
   ]
  },
  {
   "cell_type": "code",
   "execution_count": null,
   "id": "db783a90",
   "metadata": {},
   "outputs": [],
   "source": [
    "#请在下面填写代码：\n",
    "from random import randint\n",
    "from math import exp\n",
    "from math import log\n",
    "num = 10\n",
    "x=[]\n",
    "#首先生成一个随机数列x,包含num个实数\n",
    "for i in range(num):\n",
    "    n=randint(-5,10)\n",
    "    x.append(n)\n",
    "print('x=',x)\n",
    "\n",
    "#采用softmax算法把这10个数转换为一个概率分布p\n",
    "#提示：使用math.exp函数\n",
    "y=[]\n",
    "z=[]\n",
    "p=[]\n",
    "sum=0\n",
    "for i in range(len(x)):\n",
    "    m=x[i]-max(x)\n",
    "    y.append(m)\n",
    "    n=exp(x[i])\n",
    "    z.append(n)\n",
    "    sum+=z[i]\n",
    "for j in range(len(x)):\n",
    "    elem=z[j]/sum\n",
    "    p.append(elem)\n",
    "print('p=',p)\n",
    "#计算这个分布的熵h\n",
    "#提示，使用math.log2函数\n",
    "sum=0\n",
    "for k in range(len(x)):\n",
    "    sum+=p[k]*log(p[k],2)\n",
    "h=-sum\n",
    "print('entropy=',h)"
   ]
  },
  {
   "cell_type": "markdown",
   "id": "7857d8cf",
   "metadata": {},
   "source": [
    "## 9. 用随机数生成一幅彩色图像I，并把它转换为灰度图，然后统计该灰度图的亮度直方图。\n",
    "\n",
    "一幅彩色图像$I$是一个$H\\times W\\times 3$的阵列，高度与宽度分别为$H$和$W$.$V = I(i,j)$是一个第i行第j列的像素，包含R,G,B三个颜色分量的亮度值:$V(0) = R, V(1) = G, V(2) = B, R,G,B \\in[0,255]$\n",
    "\n",
    "假设$I$是一幅彩色图像，那么它的灰度图$G$是一个$H\\times W$的阵列。每个像素的灰度值计算公式为：$G(i,j)=0.299 * I(i,j,0) + 0.587 * I(i,j,1) + 0.114 * I(i,j,2)$，计算结果转换为int类型，$G(i,j)\\in [0,255]$。\n",
    "\n",
    "$G$的亮度直方图是一个长度为256的数组$h$,$h(i)\\in [0,1]$表示亮度i在图G中出现的频率。\n",
    "\n",
    "根据上述描述，在下面完成编码："
   ]
  },
  {
   "cell_type": "code",
   "execution_count": null,
   "id": "6c6008a2",
   "metadata": {},
   "outputs": [],
   "source": [
    "#生成一幅随机彩色图像I\n",
    "from random import randint\n",
    "height,width = 160,160#I的高度和宽度\n",
    "v=[[[0,0,0] for j in range(width)] for i in range(height)]\n",
    "for i in range(height):\n",
    "    for j in range(width):\n",
    "        for k in range(3):\n",
    "            v[i][j][k]=randint(0,255)\n",
    "\n",
    "\n",
    "\n",
    "#把I转换为灰度图G\n",
    "w = [0.299,0.587,0.114]#R,G,B三个颜色分量的权值\n",
    "G=[[0 for j in range(width)] for i in range(height)]\n",
    "for i in range(height):\n",
    "    for j in range(width):\n",
    "        G[i][j]=int(w[0]*v[i][j][0]+w[1]*v[i][j][1]+w[2]*v[i][j][2])\n",
    "\n",
    "#计算G的亮度直方图h\n",
    "h=[0 for i in range(256)]\n",
    "for i in range(height):\n",
    "    for j in range(width):\n",
    "        h[G[i][j]]+=1\n",
    "for i in range(256):\n",
    "    h[i]=h[i]/(height*width)"
   ]
  },
  {
   "cell_type": "code",
   "execution_count": null,
   "id": "3d1d477f",
   "metadata": {},
   "outputs": [],
   "source": [
    "#以下代码用于显示结果，需要安装matplotlib。可以不用运行本cell代码\n",
    "\n",
    "#!pip install matplotlib\n",
    "\n",
    "import matplotlib.pyplot as plt\n",
    "plt.imshow(I)\n",
    "plt.show()\n",
    "\n",
    "plt.imshow(G,cmap = 'gray')\n",
    "plt.show()\n",
    "\n",
    "plt.bar(range(len(h)),h)\n",
    "plt.show()"
   ]
  },
  {
   "cell_type": "markdown",
   "id": "2544a7b8",
   "metadata": {},
   "source": [
    "## 10. 过程模拟。\n",
    "\n",
    "假设$N$间房子，初始状态下，第$i$间房子$R_{i}$中有$n_{i}\\ge 0$个人。在时刻t，某个随机的房子$R_{j}$中的某个随机人随机移动到另一间人数超过当前房间人数的房子$R_{k}:n_{k}>n_{j}$中。可以证明，经过多轮运动之后，所有人都集中到同一间房子。请编写程序模拟这一过程,用一个列表num存放房子中的人数，每一轮按照以下格式输出一行信息： i->j,num，表示有人从房间$R_{i}$移动到房间$R_{j}$，移动之后所有房间的人数为num.\n",
    "\n",
    "下面显示了一个可能的模拟结果，其中N=10,每一步迭代只有一个人从一个房间运动到另一个房间，你的代码中可以采用随机人数，每一次可以有随机个人从一个房间移动到另一个房间：\n",
    "\n",
    "```\n",
    "initial state    :  [0, 2, 5, 1, 0, 3, 0, 7, 7, 1]\n",
    "iter # 0 : 1 --> 8 : [0, 1, 5, 1, 0, 3, 0, 7, 8, 1]\n",
    "iter # 1 : 5 --> 7 : [0, 1, 5, 1, 0, 2, 0, 8, 8, 1]\n",
    "iter # 2 : 3 --> 7 : [0, 1, 5, 0, 0, 2, 0, 9, 8, 1]\n",
    "iter # 3 : 2 --> 7 : [0, 1, 4, 0, 0, 2, 0, 10, 8, 1]\n",
    "iter # 4 : 9 --> 7 : [0, 1, 4, 0, 0, 2, 0, 11, 8, 0]\n",
    "iter # 5 : 2 --> 7 : [0, 1, 3, 0, 0, 2, 0, 12, 8, 0]\n",
    "iter # 6 : 2 --> 7 : [0, 1, 2, 0, 0, 2, 0, 13, 8, 0]\n",
    "iter # 7 : 1 --> 8 : [0, 0, 2, 0, 0, 2, 0, 13, 9, 0]\n",
    "iter # 8 : 8 --> 7 : [0, 0, 2, 0, 0, 2, 0, 14, 8, 0]\n",
    "iter # 9 : 2 --> 7 : [0, 0, 1, 0, 0, 2, 0, 15, 8, 0]\n",
    "iter # 10 : 8 --> 7 : [0, 0, 1, 0, 0, 2, 0, 16, 7, 0]\n",
    "iter # 11 : 5 --> 8 : [0, 0, 1, 0, 0, 1, 0, 16, 8, 0]\n",
    "iter # 12 : 8 --> 7 : [0, 0, 1, 0, 0, 1, 0, 17, 7, 0]\n",
    "iter # 13 : 5 --> 8 : [0, 0, 1, 0, 0, 0, 0, 17, 8, 0]\n",
    "iter # 14 : 2 --> 7 : [0, 0, 0, 0, 0, 0, 0, 18, 8, 0]\n",
    "iter # 15 : 8 --> 7 : [0, 0, 0, 0, 0, 0, 0, 19, 7, 0]\n",
    "iter # 16 : 8 --> 7 : [0, 0, 0, 0, 0, 0, 0, 20, 6, 0]\n",
    "iter # 17 : 8 --> 7 : [0, 0, 0, 0, 0, 0, 0, 21, 5, 0]\n",
    "iter # 18 : 8 --> 7 : [0, 0, 0, 0, 0, 0, 0, 22, 4, 0]\n",
    "iter # 19 : 8 --> 7 : [0, 0, 0, 0, 0, 0, 0, 23, 3, 0]\n",
    "iter # 20 : 8 --> 7 : [0, 0, 0, 0, 0, 0, 0, 24, 2, 0]\n",
    "iter # 21 : 8 --> 7 : [0, 0, 0, 0, 0, 0, 0, 25, 1, 0]\n",
    "iter # 22 : 8 --> 7 : [0, 0, 0, 0, 0, 0, 0, 26, 0, 0]\n",
    "```\n",
    "\n",
    "提示：随机选择房间可以用random模块中的choice函数实现.\n",
    "\n",
    "下面的代码演示了choice的用法："
   ]
  },
  {
   "cell_type": "code",
   "execution_count": null,
   "id": "7e5f070d",
   "metadata": {},
   "outputs": [],
   "source": [
    "#演示choice函数的用法\n",
    "\n",
    "from random import choice,randint\n",
    "\n",
    "k = choice(range(10))#从0,1,....9中随机选取一个\n",
    "print(k)\n",
    "\n",
    "x = [randint(1,100) for i in range(10)]#构造一个长为10的随机数列\n",
    "\n",
    "j = choice(range(len(x)))#随机选取一个下标j\n",
    "\n",
    "v = x[j]\n",
    "\n",
    "print('x=',x)\n",
    "print('j=',j)\n",
    "print('x[j]=',v)"
   ]
  },
  {
   "cell_type": "code",
   "execution_count": null,
   "id": "8084b52e",
   "metadata": {},
   "outputs": [],
   "source": [
    "from random import randint,choice\n",
    "num_rooms = 10#房间数目\n",
    "def randomNum():\n",
    "        while 1:\n",
    "            i=choice(range(1,num_rooms+1))\n",
    "            if num[i]!=0:\n",
    "                break\n",
    "        return i\n",
    "\n",
    "\n",
    "\n",
    "#在下面填写你的代码，生成随机人数\n",
    "\n",
    "num = [randint(1,10) for i in range(10)]\n",
    "num.insert(0,0)\n",
    "print('initial state:',num)\n",
    "\n",
    "n_iter = 0#迭代计数器\n",
    "\n",
    "#在下面填写你的代码，完成过程模拟，并在每一步迭代中输出信息\n",
    "num_empty_rooms = sum([1 for v in num if v>0])\n",
    "while num_empty_rooms!=1:\n",
    "    j=randomNum()\n",
    "    k=randomNum()\n",
    "    while num[j]>num[k]:\n",
    "        k=randomNum()\n",
    "    if k==j:\n",
    "        continue\n",
    "    num[j]-=1\n",
    "    num[k]+=1\n",
    "    n_iter+=1\n",
    "    num_empty_rooms = sum([1 for v in num if v>0])\n",
    "    print('iter # ',n_iter,':',j,'-->',k,':',num)\n"
   ]
  }
 ],
 "metadata": {
  "kernelspec": {
   "display_name": "Python [conda env:root] *",
   "language": "python",
   "name": "conda-root-py"
  },
  "language_info": {
   "codemirror_mode": {
    "name": "ipython",
    "version": 3
   },
   "file_extension": ".py",
   "mimetype": "text/x-python",
   "name": "python",
   "nbconvert_exporter": "python",
   "pygments_lexer": "ipython3",
   "version": "3.8.8"
  }
 },
 "nbformat": 4,
 "nbformat_minor": 5
}
