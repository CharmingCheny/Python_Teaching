{
 "cells": [
  {
   "cell_type": "markdown",
   "id": "0ad3f761",
   "metadata": {},
   "source": [
    "# 人工智能程序设计 编程作业-3"
   ]
  },
  {
   "cell_type": "markdown",
   "id": "1fdd9da6",
   "metadata": {},
   "source": [
    "### 请按照下面的要求编写代码并运行。把完成后的ipynb文件改名为 AIP-03-XXXXX-#####.ipynb提交。其中，XXXXX替换为你的姓名，#####替换为你的学号。例：AIP-03-王文中-E12011109.ipynb"
   ]
  },
  {
   "cell_type": "code",
   "execution_count": null,
   "id": "c7a21f4a",
   "metadata": {},
   "outputs": [],
   "source": [
    "# 请在下面补充代码，输出你的姓名和学号\n",
    "\n",
    "name = '陈一鸣'\n",
    "ID = 'E42114031'\n",
    "print('my name is ',name)\n",
    "print('id =',ID)"
   ]
  },
  {
   "cell_type": "markdown",
   "id": "b39980fd",
   "metadata": {},
   "source": [
    "以下编程问题请使用函数解决。"
   ]
  },
  {
   "cell_type": "markdown",
   "id": "1f41a5fa",
   "metadata": {},
   "source": [
    "## 1. 编写一个函数，用于判断一个年份是否是闰年。"
   ]
  },
  {
   "cell_type": "code",
   "execution_count": null,
   "id": "36c9c12b",
   "metadata": {},
   "outputs": [],
   "source": [
    "#请在下面编写函数\n",
    "def leap(year):\n",
    "    if year<0:\n",
    "        return -1\n",
    "    if year%400==0:\n",
    "        return 1\n",
    "    else:\n",
    "        if year%4==0 and year%100!=0:\n",
    "            return 1\n",
    "        else:\n",
    "            return 0\n",
    "\n"
   ]
  },
  {
   "cell_type": "code",
   "execution_count": null,
   "id": "f25b7a06",
   "metadata": {},
   "outputs": [],
   "source": [
    "#请在下面编写函数测试代码，请使用以下年份测试你的函数，-100，1000，2000，2011，2012，输出判别结果\n",
    "\n",
    "year=int(input(\"请输入年份:\"))\n",
    "a=leap(year)\n",
    "if a==1:\n",
    "    print(\"%d是闰年\" % year)\n",
    "elif a==0:\n",
    "    print(\"%d不是闰年\" % year)\n",
    "else:\n",
    "    print(\"年份输入错误！\")\n",
    "#请输入年份:-100\n",
    "#年份输入错误！\n",
    "#请输入年份:1000\n",
    "#1000不是闰年\n",
    "#请输入年份:2000\n",
    "#2000是闰年\n",
    "#请输入年份:2011\n",
    "#2011不是闰年\n",
    "#请输入年份:2012\n",
    "#2012是闰年"
   ]
  },
  {
   "cell_type": "markdown",
   "id": "1d60c3e0",
   "metadata": {},
   "source": [
    "## 2.编写函数计算一元二次方程$ ax^2+bx+c=0$的实根。函数的参数为方程的三个系数，返回结果为方程的实根。当方程无解时，返回None。"
   ]
  },
  {
   "cell_type": "code",
   "execution_count": null,
   "id": "16bf5fd0",
   "metadata": {},
   "outputs": [],
   "source": [
    "#在下面编写函数\n",
    "from math import sqrt\n",
    "def equation(a,b,c):\n",
    "    if a==0:\n",
    "        return (-1,-1,-1)\n",
    "    else:\n",
    "        delta=b*b-4*a*c\n",
    "        if delta<0:\n",
    "            return (0,0,0)\n",
    "        elif delta==0:\n",
    "            x1=(-b+sqrt(delta))/(2*a)\n",
    "            x2=(-b-sqrt(delta))/(2*a)\n",
    "            return (1,x1,x2)\n",
    "        else:\n",
    "            x1=(-b+sqrt(delta))/(2*a)\n",
    "            x2=(-b-sqrt(delta))/(2*a)\n",
    "            return (2,x1,x2)"
   ]
  },
  {
   "cell_type": "code",
   "execution_count": null,
   "id": "8dbf1e74",
   "metadata": {},
   "outputs": [],
   "source": [
    "#在下面编写函数测试代码：\n",
    "#至少测试以下几个用例：\n",
    "#1) a = 0, b = 0, c = 1\n",
    "#2) a = 0, b = 2, c = 1\n",
    "#3) a = 1, b = 2, c = 1\n",
    "#4) a = 1, b = -3, c = 2\n",
    "#5) a = 3, b = -9, c = 6\n",
    "#6) a = 1, b = 2, c = 2\n",
    "a=float(input(\"Please input a:\"))\n",
    "b=float(input(\"Please input b:\"))\n",
    "c=float(input(\"Please input c:\"))\n",
    "print(\"a=%f,b=%f,c=%f\" % (a,b,c))\n",
    "d,x1,x2=equation(a,b,c)\n",
    "if d==-1:\n",
    "    print(\"It is not a quadratic equation\")\n",
    "elif d==0:\n",
    "    print(\"The equation has no roots.\")\n",
    "elif d==1:\n",
    "    print(\"The equation has 1 root.\")\n",
    "    print(\"x1=%f\\nx2=%f\\n\" % (x1,x2))\n",
    "else:\n",
    "    print(\"The equation has 2 roots.\")\n",
    "    print(\"x1=%f\\nx2=%f\\n\" % (x1,x2))\n",
    "#Please input a:0\n",
    "#Please input b:0\n",
    "#Please input c:1\n",
    "#a=0.000000,b=0.000000,c=1.000000\n",
    "#It is not a quadratic equation\n",
    "\n",
    "#Please input a:0\n",
    "#Please input b:2\n",
    "#Please input c:1\n",
    "#a=0.000000,b=2.000000,c=1.000000\n",
    "#It is not a quadratic equation\n",
    "\n",
    "#Please input a:1\n",
    "#Please input b:2\n",
    "#Please input c:1\n",
    "#a=1.000000,b=2.000000,c=1.000000\n",
    "#The equation has 1 root.\n",
    "#x1=-1.000000\n",
    "#x2=-1.000000\n",
    "\n",
    "#Please input a:1\n",
    "#Please input b:-3\n",
    "#Please input c:2\n",
    "#a=1.000000,b=-3.000000,c=2.000000\n",
    "#The equation has 2 roots.\n",
    "#x1=2.000000\n",
    "#x2=1.000000\n",
    "\n",
    "#Please input a:3\n",
    "#Please input b:-9\n",
    "#Please input c:6\n",
    "#a=3.000000,b=-9.000000,c=6.000000\n",
    "#The equation has 2 roots.\n",
    "#x1=2.000000\n",
    "#x2=1.000000\n",
    "\n",
    "#Please input a:1\n",
    "#Please input b:2\n",
    "#Please input c:2\n",
    "#a=1.000000,b=2.000000,c=2.000000\n",
    "#The equation has no roots."
   ]
  },
  {
   "cell_type": "markdown",
   "id": "a91b7ee7",
   "metadata": {},
   "source": [
    "## 3.编写一个函数，用Newton-Ralphson算法计算任意正实数的平方根。当输入参数为负数时，返回None，否则返回该参数的平方根近似值。"
   ]
  },
  {
   "cell_type": "code",
   "execution_count": null,
   "id": "0c93674b",
   "metadata": {},
   "outputs": [],
   "source": [
    "#请在下面编写函数\n",
    "def Newtown(num):\n",
    "    if num<0:\n",
    "        return None\n",
    "    else:\n",
    "        k=1.0\n",
    "        while(abs(k*k-num)>1e-9):\n",
    "            k=(k+num/k)/2\n",
    "        return k"
   ]
  },
  {
   "cell_type": "code",
   "execution_count": null,
   "id": "c899f0b4",
   "metadata": {},
   "outputs": [],
   "source": [
    "#请在下面测试你的函数\n",
    "#自己设计测试用例\n",
    "a=Newtown(-1)\n",
    "print(a)\n",
    "#None\n",
    "b=Newtown(0)\n",
    "print(b)\n",
    "#3.0517578125e-05\n",
    "c=Newtown(2)\n",
    "print(c)\n",
    "#1.4142135623746899\n",
    "\n",
    "\n"
   ]
  },
  {
   "cell_type": "markdown",
   "id": "fe98cced",
   "metadata": {},
   "source": [
    "## 4. 编写函数计算成绩的平均分与标准差，函数的输入参数为成绩列表，返回值为平均分与标准差。"
   ]
  },
  {
   "cell_type": "code",
   "execution_count": null,
   "id": "2cccf245",
   "metadata": {},
   "outputs": [],
   "source": [
    "#在下面编写函数\n",
    "from math import sqrt\n",
    "def score(a):\n",
    "    sum=s=0\n",
    "    for i in a:\n",
    "        sum+=i\n",
    "    aver=sum/(len(a))\n",
    "    for i in a:\n",
    "        s+=(i-aver)**2\n",
    "        standard=sqrt(s)\n",
    "    return(aver,standard)   \n",
    "\n"
   ]
  },
  {
   "cell_type": "code",
   "execution_count": null,
   "id": "63d674fd",
   "metadata": {},
   "outputs": [],
   "source": [
    "#在下面编写函数测试代码，请自己设计测试用例\n",
    "a=[96,78,88,84,93]\n",
    "score(a)\n",
    "#平均分：87.800000\n",
    "#标准差：14.310835\n"
   ]
  },
  {
   "cell_type": "markdown",
   "id": "b6747b58",
   "metadata": {},
   "source": [
    "## 5. 编写函数，统计一个字符串中五个不同元音字母出现的频率（大小写无关），函数参数为字符串，返回值为一个字典，表示五个元音的频率。\n",
    "\n",
    "返回结果示例：\n",
    "{'a':0.1,'e':0.07,'i':0.11,'o':0.02,'u':0}"
   ]
  },
  {
   "cell_type": "code",
   "execution_count": null,
   "id": "01ab8dd0",
   "metadata": {},
   "outputs": [],
   "source": [
    "#请在下面编写函数\n",
    "def vowel(str):\n",
    "    sum=0\n",
    "    d=[0,0,0,0,0]\n",
    "    str=str.casefold()\n",
    "    for i in str:\n",
    "        if i=='a':\n",
    "            d[0]+=1\n",
    "        elif i=='e':\n",
    "            d[1]+=1\n",
    "        elif i=='i':\n",
    "            d[2]+=1\n",
    "        elif i=='o':\n",
    "            d[3]+=1\n",
    "        elif i=='u':\n",
    "            d[4]+=1\n",
    "    for i in d:\n",
    "        sum+=i\n",
    "    for i in range(5):\n",
    "        d[i]=d[i]/sum\n",
    "    w=dict(zip(['a','e','i','o','u'],d))    \n",
    "    return w\n"
   ]
  },
  {
   "cell_type": "code",
   "execution_count": null,
   "id": "fefe2468",
   "metadata": {},
   "outputs": [],
   "source": [
    "#请在下面编写代码测试你的函数\n",
    "str=\"Hello Apple and You\"\n",
    "w={}\n",
    "w=vowel(str)\n",
    "print(w)\n",
    "#{'a': 0.2857142857142857, 'e': 0.2857142857142857, 'i': 0.0, 'o': 0.2857142857142857, 'u': 0.14285714285714285}"
   ]
  },
  {
   "cell_type": "markdown",
   "id": "6e6694ed",
   "metadata": {},
   "source": [
    "## 6. 编写函数判断一个正整数属于 完全数(Perfect)、亏数(Deficient)或盈数(Abundant)中的哪一种。要求函数输出该整数的所有真因子及其总和，并输出该整数的类别。\n",
    "\n",
    "假设一个整数N的所有真因子（即能整除该整数的自然数，除它本身之外。例如10的真因子有1，2，5）的和为S,如果S=N，那么N是完全数，如果S<N，那么N是亏数，否则N是盈数。"
   ]
  },
  {
   "cell_type": "code",
   "execution_count": null,
   "id": "3be5ca5d",
   "metadata": {},
   "outputs": [],
   "source": [
    "#在下面编写函数\n",
    "def sortnum(n):\n",
    "    s=0\n",
    "    num=[]\n",
    "    if n<=0:\n",
    "        print(\"输入错误！\")\n",
    "    else:\n",
    "        for i in range(1,n):\n",
    "            if n % i ==0:\n",
    "                num.append(i)\n",
    "                s+=i\n",
    "            else:\n",
    "                continue\n",
    "        print(\"%d的因数为:\" % n)\n",
    "        for i in num:\n",
    "            print(i)\n",
    "        print(\"%d的因数和为:%d\" % (n,s))\n",
    "        if s==n:\n",
    "            print(\"完全数\")\n",
    "        elif s<n:\n",
    "            print(\"亏数\")\n",
    "        else:\n",
    "            print(\"盈数\")\n",
    "            "
   ]
  },
  {
   "cell_type": "code",
   "execution_count": null,
   "id": "cbbea0ed",
   "metadata": {},
   "outputs": [],
   "source": [
    "#在下面编写函数测试代码\n",
    "#请至少测试以下四个数6,8,10,12\n",
    "n=int(input(\"请输入一个正整数:\"))\n",
    "sortnum(n)\n",
    "#请输入一个正整数:10\n",
    "#10的因数为:\n",
    "#1\n",
    "#2\n",
    "#5\n",
    "#10的因数和为:8\n",
    "#亏数\n",
    "\n",
    "#请输入一个正整数:-2\n",
    "#输入错误！"
   ]
  },
  {
   "cell_type": "markdown",
   "id": "8e720137",
   "metadata": {},
   "source": [
    "## 7.编写函数，计算两个矩形的交并比(Intersection Over Union，IOU)。\n",
    "\n",
    "假设矩形A,B的坐标分别为$A=(x_{1}^A,y_1^A,x_2^A,y_2^A),B=(x_{1}^B,y_1^B,x_2^B,y_2^B)$,其中$(x_1,y_1)$是左上角坐标，$(x_2,y_2)$是右下角坐标。他们的交并比IoU(A,B)表示A，B重叠部分($A\\cap B$)的面积与他们的联合部分($A\\cup B$)总面积之比。可以按照以下方式计算：\n",
    "\n",
    "$x_1^I = max(x_1^A,x_1^B); y_1^I = max(y_1^A,y_1^B); x_2^I = min(x_2^A,x_2^B); y_2^I = min(y_2^A,y_2^B)$\n",
    "\n",
    "交集面积为$I = (x_2^I - x_1^I)\\times (y_2^I - y_1^I)$\n",
    "\n",
    "$IoU(A,B)=\\frac{I}{A+B-I}$，其中A,B分别表示矩形A,B的面积。"
   ]
  },
  {
   "cell_type": "code",
   "execution_count": null,
   "id": "0e05ad1e",
   "metadata": {},
   "outputs": [],
   "source": [
    "#请在下面编写函数计算IoU\n",
    "def calculate_IoU(predicted_bound, ground_truth_bound):\n",
    "    px1, py1, px2, py2 = predicted_bound\n",
    "    print(\"预测框P的坐标是：({}, {}, {}, {})\".format(px1, py1, px2, py2))\n",
    "    gx1, gy1, gx2, gy2 = ground_truth_bound\n",
    "    print(\"原标记框G的坐标是：({}, {}, {}, {})\".format(gx1, gy1, gx2, gy2))\n",
    "    parea = (px2 - px1) * (py1 - py2)  \n",
    "    garea = (gx2 - gx1) * (gy1 - gy2)  \n",
    "    print(\"预测框P的面积是：{}；原标记框G的面积是：{}\".format(parea, garea))\n",
    "    x1 = max(px1, gx1)  \n",
    "    y1 = min(py1, gy1)  \n",
    "    x2 = min(px2, gx2) \n",
    "    y2 = max(py2, gy2)  \n",
    "    w = x2 - x1\n",
    "    h = y1 - y2\n",
    "    if w <=0 or h <= 0:\n",
    "        return 0\n",
    "    area = w * h  # G∩P的面积\n",
    "    print(\"G∩P的面积是：{}\".format(area))\n",
    "    IoU = area / (parea + garea - area)\n",
    "    return IoU\n",
    "\n"
   ]
  },
  {
   "cell_type": "code",
   "execution_count": null,
   "id": "7d6c8471",
   "metadata": {},
   "outputs": [],
   "source": [
    "#请在下面编写代码测试你的函数，至少有三个不同的测试用例，包括以下三种情况:A,B不相交;A,B相交；A包含B。\n",
    "IoU = calculate_IoU( (1, 1, 3, -1), (0, 2, 2, 0))\n",
    "print(\"IoU是：{}\".format(IoU))\n",
    "'''\n",
    "预测框P的坐标是：(1, 1, 3, -1)\n",
    "原标记框G的坐标是：(0, 2, 2, 0)\n",
    "预测框P的面积是：4；原标记框G的面积是：4\n",
    "G∩P的面积是：1\n",
    "IoU是：0.14285714285714285\n",
    "'''\n",
    "IoU = calculate_IoU( (100, 100, 300, -100), (0, 2, 2, 0))\n",
    "print(\"IoU是：{}\".format(IoU))\n",
    "'''\n",
    "预测框P的坐标是：(100, 100, 300, -100)\n",
    "原标记框G的坐标是：(0, 2, 2, 0)\n",
    "预测框P的面积是：40000；原标记框G的面积是：4\n",
    "IoU是：0\n",
    "'''\n",
    "IoU = calculate_IoU( (0, 3, 2, -100), (0, 2, 2, 0))\n",
    "print(\"IoU是：{}\".format(IoU))\n",
    "'''\n",
    "预测框P的坐标是：(0, 3, 2, -100)\n",
    "原标记框G的坐标是：(0, 2, 2, 0)\n",
    "预测框P的面积是：206；原标记框G的面积是：4\n",
    "G∩P的面积是：4\n",
    "IoU是：0.019417475728155338\n",
    "'''"
   ]
  },
  {
   "cell_type": "markdown",
   "id": "725cbc91",
   "metadata": {},
   "source": [
    "## 8. 编写一个函数，近似计算任意一元连续函数$f(x),x\\in R$在给定自变量$x$处的导数。\n",
    "\n",
    "计算方法为：$f^\\prime (x)\\approx \\frac{f(x+\\delta)-f(x-\\delta)}{2\\delta}$,其中$\\delta$是一个很小的正数，比如$\\delta=1e-6$.\n",
    "\n",
    "- 注意：本例中，函数f作为参数输出到你编写的求导函数中。"
   ]
  },
  {
   "cell_type": "code",
   "execution_count": null,
   "id": "db783a90",
   "metadata": {},
   "outputs": [],
   "source": [
    "#请在下面编写你的函数：\n",
    "def derivation(x):\n",
    "    h=1e-6\n",
    "    return (f(x+h)-f(x))/h"
   ]
  },
  {
   "cell_type": "code",
   "execution_count": 1,
   "id": "c7518bd0",
   "metadata": {},
   "outputs": [
    {
     "name": "stdout",
     "output_type": "stream",
     "text": [
      "1\n",
      "1\n",
      "1\n",
      "0.9092974268256817\n",
      "0.36787944117144233\n",
      "2.1\n"
     ]
    }
   ],
   "source": [
    "# 下面定义了几个不同的一元连续函数,用于测试你写的求导函数\n",
    "from math import sin,exp\n",
    "\n",
    "\n",
    "def f1(x): return 1\n",
    "\n",
    "def f2(x): return x\n",
    "\n",
    "def f3(x): return x**2\n",
    "\n",
    "def f4(x): return sin(2*x)\n",
    "\n",
    "def f5(x): return exp(-x**2)\n",
    "\n",
    "def f6(x): return 0.1*x**3 - 2*x**2 + 3*x + 1\n",
    "\n",
    "\n",
    "fns = [f1,f2,f3,f4,f5,f6]\n",
    "x0 = 1\n",
    "\n",
    "for f in fns:\n",
    "    x=f(x0)\n"
   ]
  },
  {
   "cell_type": "code",
   "execution_count": null,
   "id": "f984edbe",
   "metadata": {},
   "outputs": [],
   "source": [
    "#在下面编写代码，调用你编写的求导函数，对上述定义的各个函数，计算某个x处的导数。\n",
    "#你可以编写新的被求导函数f(x)\n",
    "\n",
    "from math import sin,exp\n",
    "\n",
    "\n",
    "def f1(x): return 1\n",
    "\n",
    "def f2(x): return x\n",
    "\n",
    "def f3(x): return x**2\n",
    "\n",
    "def f4(x): return sin(2*x)\n",
    "\n",
    "def f5(x): return exp(-x**2)\n",
    "\n",
    "def f6(x): return 0.1*x**3 - 2*x**2 + 3*x + 1\n",
    "\n",
    "\n",
    "fns = [f1,f2,f3,f4,f5,f6]\n",
    "x0 = 1\n",
    "\n",
    "for f in fns:\n",
    "    x=f(x0)\n",
    "    a=derivation(f,x)\n",
    "    print(a)\n",
    "\n",
    "#0.0\n",
    "#0.9999999999177334\n",
    "#2.0000009999243673\n",
    "#-0.490542592546106\n",
    "#-0.6426293809314032\n",
    "#-4.07700137294853\n"
   ]
  },
  {
   "cell_type": "markdown",
   "id": "7857d8cf",
   "metadata": {},
   "source": [
    "## 9. 编写函数计算一个一元连续函数$f(x)=2x^2-3x+1$在给定自变量$x$附近的极小值点。\n",
    "\n",
    "算法如下：假设一元函数为$f(x)$，初始点为$x$.\n",
    "\n",
    "$x$附近的极小值点按照以下方式迭代求解：$x = x - \\alpha f^\\prime(x)$ 直到相邻两次$x$的值几乎不变.其中,$\\alpha>0$是一个很小的数,比如$\\alpha = 0.001$\n",
    "\n",
    "函数的输入为f，以及初始点x，返回值为极小值点x."
   ]
  },
  {
   "cell_type": "code",
   "execution_count": null,
   "id": "6c6008a2",
   "metadata": {},
   "outputs": [],
   "source": [
    "#定义函数f(x)=2x^2-3x+1\n",
    "def f(x):\n",
    "    #在下面补充你的代码\n",
    "    return 2*x**2-3*x+1\n",
    "\n",
    "\n",
    "print(f(0))\n",
    "print(f(1))"
   ]
  },
  {
   "cell_type": "code",
   "execution_count": null,
   "id": "3d1d477f",
   "metadata": {},
   "outputs": [],
   "source": [
    "#在下面编写你的函数，对上述f计算任意给定位置附近的极小值点\n",
    "#要求，1)对f调用第8题编写的求导函数，计算f'(x)。\n",
    "#2) 每一次迭代输出以下信息：迭代次数（从1开始计数），x的值，f(x)的值。\n",
    "i=0\n",
    "def minimal_value(f,x):\n",
    "    global i\n",
    "    i+=1\n",
    "    afa=0.001\n",
    "    b=x\n",
    "    x=x-afa*derivation(f,x)\n",
    "    print(i)\n",
    "    print(x)\n",
    "    print(f(x))\n",
    "    if abs(x-b)>1e-2:\n",
    "        minimal_value(f,x)\n",
    "    else:\n",
    "        return\n",
    "\n",
    "    \n",
    "\n"
   ]
  },
  {
   "cell_type": "code",
   "execution_count": null,
   "id": "41a53b41",
   "metadata": {},
   "outputs": [],
   "source": [
    "#在下面编写代码，调用上面的函数，计算f(x)在某个x附近的极小值点。\n",
    "\n",
    "x = 5\n",
    "minimal_value(f,x)\n"
   ]
  }
 ],
 "metadata": {
  "kernelspec": {
   "display_name": "Python [conda env:root] *",
   "language": "python",
   "name": "conda-root-py"
  },
  "language_info": {
   "codemirror_mode": {
    "name": "ipython",
    "version": 3
   },
   "file_extension": ".py",
   "mimetype": "text/x-python",
   "name": "python",
   "nbconvert_exporter": "python",
   "pygments_lexer": "ipython3",
   "version": "3.8.8"
  }
 },
 "nbformat": 4,
 "nbformat_minor": 5
}
